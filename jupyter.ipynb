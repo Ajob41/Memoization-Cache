{
 "cells": [
  {
   "cell_type": "code",
   "execution_count": 32,
   "metadata": {},
   "outputs": [
    {
     "name": "stderr",
     "output_type": "stream",
     "text": [
      "C:\\Users\\ayyub\\AppData\\Local\\Temp\\ipykernel_9124\\1306269099.py:9: SymPyDeprecationWarning: \n",
      "\n",
      "Eq(expr) with a single argument with the right-hand side\n",
      "defaulting to 0 is deprecated. Use Eq(expr, 0) instead.\n",
      "\n",
      "See https://docs.sympy.org/latest/explanation/active-deprecations.html#deprecated-eq-expr\n",
      "for details.\n",
      "\n",
      "This has been deprecated since SymPy version 1.5. It\n",
      "will be removed in a future version of SymPy.\n",
      "\n",
      "  solution = Eq(solve(expression))\n"
     ]
    },
    {
     "ename": "SympifyError",
     "evalue": "SympifyError: []",
     "output_type": "error",
     "traceback": [
      "\u001b[1;31m---------------------------------------------------------------------------\u001b[0m",
      "\u001b[1;31mSympifyError\u001b[0m                              Traceback (most recent call last)",
      "\u001b[1;32mc:\\Users\\ayyub\\OneDrive\\Desktop\\Ayub\\jupyter.ipynb Cell 1'\u001b[0m in \u001b[0;36m<cell line: 9>\u001b[1;34m()\u001b[0m\n\u001b[0;32m      <a href='vscode-notebook-cell:/c%3A/Users/ayyub/OneDrive/Desktop/Ayub/jupyter.ipynb#ch0000000?line=6'>7</a>\u001b[0m expression \u001b[39m=\u001b[39m \u001b[39m2\u001b[39m \u001b[39m+\u001b[39m x,\u001b[39m5\u001b[39m\n\u001b[0;32m      <a href='vscode-notebook-cell:/c%3A/Users/ayyub/OneDrive/Desktop/Ayub/jupyter.ipynb#ch0000000?line=7'>8</a>\u001b[0m \u001b[39m# solve the equation\u001b[39;00m\n\u001b[1;32m----> <a href='vscode-notebook-cell:/c%3A/Users/ayyub/OneDrive/Desktop/Ayub/jupyter.ipynb#ch0000000?line=8'>9</a>\u001b[0m solution \u001b[39m=\u001b[39m Eq(solve(expression))\n\u001b[0;32m     <a href='vscode-notebook-cell:/c%3A/Users/ayyub/OneDrive/Desktop/Ayub/jupyter.ipynb#ch0000000?line=9'>10</a>\u001b[0m display(solution)\n",
      "File \u001b[1;32m~\\AppData\\Local\\Programs\\Python\\Python310\\lib\\site-packages\\sympy\\core\\relational.py:626\u001b[0m, in \u001b[0;36mEquality.__new__\u001b[1;34m(cls, lhs, rhs, **options)\u001b[0m\n\u001b[0;32m    <a href='file:///c%3A/Users/ayyub/AppData/Local/Programs/Python/Python310/lib/site-packages/sympy/core/relational.py?line=623'>624</a>\u001b[0m     rhs \u001b[39m=\u001b[39m \u001b[39m0\u001b[39m\n\u001b[0;32m    <a href='file:///c%3A/Users/ayyub/AppData/Local/Programs/Python/Python310/lib/site-packages/sympy/core/relational.py?line=624'>625</a>\u001b[0m evaluate \u001b[39m=\u001b[39m options\u001b[39m.\u001b[39mpop(\u001b[39m'\u001b[39m\u001b[39mevaluate\u001b[39m\u001b[39m'\u001b[39m, global_parameters\u001b[39m.\u001b[39mevaluate)\n\u001b[1;32m--> <a href='file:///c%3A/Users/ayyub/AppData/Local/Programs/Python/Python310/lib/site-packages/sympy/core/relational.py?line=625'>626</a>\u001b[0m lhs \u001b[39m=\u001b[39m _sympify(lhs)\n\u001b[0;32m    <a href='file:///c%3A/Users/ayyub/AppData/Local/Programs/Python/Python310/lib/site-packages/sympy/core/relational.py?line=626'>627</a>\u001b[0m rhs \u001b[39m=\u001b[39m _sympify(rhs)\n\u001b[0;32m    <a href='file:///c%3A/Users/ayyub/AppData/Local/Programs/Python/Python310/lib/site-packages/sympy/core/relational.py?line=627'>628</a>\u001b[0m \u001b[39mif\u001b[39;00m evaluate:\n",
      "File \u001b[1;32m~\\AppData\\Local\\Programs\\Python\\Python310\\lib\\site-packages\\sympy\\core\\sympify.py:528\u001b[0m, in \u001b[0;36m_sympify\u001b[1;34m(a)\u001b[0m\n\u001b[0;32m    <a href='file:///c%3A/Users/ayyub/AppData/Local/Programs/Python/Python310/lib/site-packages/sympy/core/sympify.py?line=501'>502</a>\u001b[0m \u001b[39mdef\u001b[39;00m \u001b[39m_sympify\u001b[39m(a):\n\u001b[0;32m    <a href='file:///c%3A/Users/ayyub/AppData/Local/Programs/Python/Python310/lib/site-packages/sympy/core/sympify.py?line=502'>503</a>\u001b[0m     \u001b[39m\"\"\"\u001b[39;00m\n\u001b[0;32m    <a href='file:///c%3A/Users/ayyub/AppData/Local/Programs/Python/Python310/lib/site-packages/sympy/core/sympify.py?line=503'>504</a>\u001b[0m \u001b[39m    Short version of :func:`~.sympify` for internal usage for ``__add__`` and\u001b[39;00m\n\u001b[0;32m    <a href='file:///c%3A/Users/ayyub/AppData/Local/Programs/Python/Python310/lib/site-packages/sympy/core/sympify.py?line=504'>505</a>\u001b[0m \u001b[39m    ``__eq__`` methods where it is ok to allow some things (like Python\u001b[39;00m\n\u001b[1;32m   (...)\u001b[0m\n\u001b[0;32m    <a href='file:///c%3A/Users/ayyub/AppData/Local/Programs/Python/Python310/lib/site-packages/sympy/core/sympify.py?line=525'>526</a>\u001b[0m \n\u001b[0;32m    <a href='file:///c%3A/Users/ayyub/AppData/Local/Programs/Python/Python310/lib/site-packages/sympy/core/sympify.py?line=526'>527</a>\u001b[0m \u001b[39m    \"\"\"\u001b[39;00m\n\u001b[1;32m--> <a href='file:///c%3A/Users/ayyub/AppData/Local/Programs/Python/Python310/lib/site-packages/sympy/core/sympify.py?line=527'>528</a>\u001b[0m     \u001b[39mreturn\u001b[39;00m sympify(a, strict\u001b[39m=\u001b[39;49m\u001b[39mTrue\u001b[39;49;00m)\n",
      "File \u001b[1;32m~\\AppData\\Local\\Programs\\Python\\Python310\\lib\\site-packages\\sympy\\core\\sympify.py:449\u001b[0m, in \u001b[0;36msympify\u001b[1;34m(a, locals, convert_xor, strict, rational, evaluate)\u001b[0m\n\u001b[0;32m    <a href='file:///c%3A/Users/ayyub/AppData/Local/Programs/Python/Python310/lib/site-packages/sympy/core/sympify.py?line=445'>446</a>\u001b[0m                 \u001b[39mcontinue\u001b[39;00m\n\u001b[0;32m    <a href='file:///c%3A/Users/ayyub/AppData/Local/Programs/Python/Python310/lib/site-packages/sympy/core/sympify.py?line=447'>448</a>\u001b[0m \u001b[39mif\u001b[39;00m strict:\n\u001b[1;32m--> <a href='file:///c%3A/Users/ayyub/AppData/Local/Programs/Python/Python310/lib/site-packages/sympy/core/sympify.py?line=448'>449</a>\u001b[0m     \u001b[39mraise\u001b[39;00m SympifyError(a)\n\u001b[0;32m    <a href='file:///c%3A/Users/ayyub/AppData/Local/Programs/Python/Python310/lib/site-packages/sympy/core/sympify.py?line=450'>451</a>\u001b[0m \u001b[39mif\u001b[39;00m iterable(a):\n\u001b[0;32m    <a href='file:///c%3A/Users/ayyub/AppData/Local/Programs/Python/Python310/lib/site-packages/sympy/core/sympify.py?line=451'>452</a>\u001b[0m     \u001b[39mtry\u001b[39;00m:\n",
      "\u001b[1;31mSympifyError\u001b[0m: SympifyError: []"
     ]
    }
   ],
   "source": [
    "\n",
    "import sympy as sp\n",
    "\n",
    "\n",
    "x = sp.symbols('x')\n",
    "\n",
    "# create simple algebraic expression\n",
    "expression = 2 + x,5\n"
   ]
  }
 ],
 "metadata": {
  "interpreter": {
   "hash": "008de24d41aff6f9d7e617e729f85bcb20eec1800c6d0ba894671ebc3fbd8cb0"
  },
  "kernelspec": {
   "display_name": "Python 3.10.2 64-bit",
   "language": "python",
   "name": "python3"
  },
  "language_info": {
   "codemirror_mode": {
    "name": "ipython",
    "version": 3
   },
   "file_extension": ".py",
   "mimetype": "text/x-python",
   "name": "python",
   "nbconvert_exporter": "python",
   "pygments_lexer": "ipython3",
   "version": "3.10.2"
  },
  "orig_nbformat": 4
 },
 "nbformat": 4,
 "nbformat_minor": 2
}
